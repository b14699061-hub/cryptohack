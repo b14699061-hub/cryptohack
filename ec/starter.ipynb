{
 "cells": [
  {
   "cell_type": "markdown",
   "id": "a532a047",
   "metadata": {},
   "source": [
    "# Algorithm for the Addition of Two Points: $P + Q$\n",
    "- If $P = O$, then $P + Q = Q$.\n",
    "- Otherwise, if $Q = O$, then $P + Q = P$.\n",
    "- Otherwise, let $P = (x_1, y_1)$ and $Q = (x_2, y_2)$.\n",
    "- If $x_1 = x_2$ and $y_1 = -y_2$, then $P + Q = O$.\n",
    "- Otherwise:\n",
    "  - If $P \\neq Q$, then $\\lambda = (y_2 - y_1) / (x_2 - x_1)$.\n",
    "  - If $P = Q$, then $\\lambda = (3x_1^2 + a) / 2y_1$.\n",
    "- $x_3 = \\lambda^2 - x_1 - x_2$.\n",
    "- $y_3 = \\lambda(x_1 - x_3) - y_1$.\n",
    "- $P + Q = (x_3, y_3)$."
   ]
  },
  {
   "cell_type": "code",
   "execution_count": 91,
   "id": "02115a3d",
   "metadata": {},
   "outputs": [],
   "source": [
    "# imports:\n",
    "from typing import List\n",
    "from dataclasses import dataclass\n",
    "from hashlib import sha1"
   ]
  },
  {
   "cell_type": "code",
   "execution_count": 92,
   "id": "662fe14f",
   "metadata": {},
   "outputs": [],
   "source": [
    "# placeholder for inf\n",
    "O = [-1, -1]\n",
    "\n",
    "@dataclass\n",
    "class EllipticCurve:\n",
    "    a: int\n",
    "    b: int\n",
    "    p: int"
   ]
  },
  {
   "cell_type": "code",
   "execution_count": 93,
   "id": "986dbf57",
   "metadata": {},
   "outputs": [],
   "source": [
    "def equals(P: List[int], Q: List[int]):\n",
    "    return all([a == b for a, b in zip(P, Q)])"
   ]
  },
  {
   "cell_type": "code",
   "execution_count": 94,
   "id": "5ec2aea9",
   "metadata": {},
   "outputs": [],
   "source": [
    "def extended_gcd(a, b):\n",
    "    if a == 0:\n",
    "        return (b, 0, 1)\n",
    "    \n",
    "    g, x1, y1 = extended_gcd(b % a, a)\n",
    "    \n",
    "    x = y1 - (b // a) * x1\n",
    "    y = x1\n",
    "    \n",
    "    return (g, x, y)"
   ]
  },
  {
   "cell_type": "code",
   "execution_count": 95,
   "id": "2920a170",
   "metadata": {},
   "outputs": [],
   "source": [
    "def inv(x: int, p: int):\n",
    "    t, s, _ = extended_gcd(x, p)\n",
    "    \n",
    "    if t != 1:\n",
    "        print(f\"Invalid input {x}\")\n",
    "        raise Exception(\"No inverse\")\n",
    "    else:\n",
    "        return s % p"
   ]
  },
  {
   "cell_type": "code",
   "execution_count": 96,
   "id": "340dbc90",
   "metadata": {},
   "outputs": [],
   "source": [
    "def sub(x: int, y: int, p: int):\n",
    "    res = x - y\n",
    "    if res < 0:\n",
    "        return res + p\n",
    "    \n",
    "    return res % p"
   ]
  },
  {
   "cell_type": "code",
   "execution_count": 97,
   "id": "326f3256",
   "metadata": {},
   "outputs": [],
   "source": [
    "def point_addition(P: List[int], Q: List[int], ec: EllipticCurve) -> List[int]:\n",
    "    if equals(P, O):\n",
    "        return Q\n",
    "    \n",
    "    if equals(Q, O):\n",
    "        return P\n",
    "    \n",
    "    x_1, y_1 = P\n",
    "    x_2, y_2 = Q\n",
    "\n",
    "    if x_1 == x_2 and y_1 == -y_2:\n",
    "        return O\n",
    "    \n",
    "    if not equals(P, Q):\n",
    "        l = sub(y_2,  y_1, ec.p) * inv(sub(x_2, x_1, ec.p), ec.p)\n",
    "\n",
    "    else:\n",
    "        l = (3 * (x_1 ** 2) + ec.a) * inv(2 * y_1, ec.p)\n",
    "\n",
    "    l = l % ec.p\n",
    "    \n",
    "    x_3 = sub(sub(l ** 2, x_1, ec.p), x_2, ec.p)\n",
    "    y_3 = sub(l * sub(x_1, x_3, ec.p), y_1, ec.p)\n",
    "\n",
    "    return [x_3, y_3]\n",
    "    \n",
    "    "
   ]
  },
  {
   "cell_type": "markdown",
   "id": "df261596",
   "metadata": {},
   "source": [
    "💡 You can test your algorithm by asserting: X+Y=(1024,4440) and X+X=(7284,2107) for X=(5274,2841) and Y=(8669,740).\n",
    "\n",
    "The algorithm is based on the elliptic curve E: Y2=X3+497X+1768 mod 9739."
   ]
  },
  {
   "cell_type": "code",
   "execution_count": 98,
   "id": "6f705d17",
   "metadata": {},
   "outputs": [
    {
     "name": "stdout",
     "output_type": "stream",
     "text": [
      "\n",
      "    expected values be:\n",
      "    X+Y=[1024,4440] and X+X=[7284,2107]\n",
      "    result values:\n",
      "    X+Y=[1024, 4440] and X+X=[7284, 2107]\n",
      "    \n"
     ]
    }
   ],
   "source": [
    "X=[5274,2841]\n",
    "Y=[8669,740]\n",
    "\n",
    "# the elliptic curve E: Y2 = X3 + 497X + 1768 mod 9739\n",
    "ec = EllipticCurve( a=497, b=1768, p=9739)\n",
    "\n",
    "print(\\\n",
    "    f\"\"\"\n",
    "    expected values be:\n",
    "    X+Y=[1024,4440] and X+X=[7284,2107]\n",
    "    result values:\n",
    "    X+Y={point_addition(X, Y, ec)} and X+X={point_addition(X, X, ec)}\n",
    "    \"\"\")"
   ]
  },
  {
   "cell_type": "markdown",
   "id": "387e6dc7",
   "metadata": {},
   "source": [
    "Using the above curve, and the points P=(493,5564), Q=(1539,4742), R=(4403,5202), find the point S(x,y)=P+P+Q+R by implementing the above algorithm."
   ]
  },
  {
   "cell_type": "code",
   "execution_count": 99,
   "id": "13e55c83",
   "metadata": {},
   "outputs": [
    {
     "name": "stdout",
     "output_type": "stream",
     "text": [
      "crypto[4215, 2162]\n"
     ]
    }
   ],
   "source": [
    "P=[493,5564]\n",
    "Q=[1539,4742]\n",
    "R=[4403,5202]\n",
    "\n",
    "# S(x,y)=P+P+Q+R\n",
    "res = point_addition(P, P, ec)\n",
    "res = point_addition(res, Q, ec)\n",
    "S = point_addition(res, R, ec)\n",
    "\n",
    "print(f\"crypto{S}\")"
   ]
  },
  {
   "cell_type": "markdown",
   "id": "00d346d7",
   "metadata": {},
   "source": [
    "# Double and Add Algorithm for Scalar Multiplication\n",
    "\n",
    "**Input:**  \n",
    "$P \\in E(\\mathbb{F}_p)$ and an integer $n > 0$.\n",
    "\n",
    "**Output:**  \n",
    "$Q = [n]P \\in E(\\mathbb{F}_p)$.\n",
    "\n",
    "---\n",
    "\n",
    "## Algorithm (Double-and-Add)\n",
    "\n",
    "1. Initialize: $Q = P$ and $R = O$.\n",
    "2. While $n > 0$:\n",
    "   1. If $n \\equiv 1 \\pmod{2}$, set $R = R + Q$.\n",
    "   2. Set $Q = [2]Q$.\n",
    "   3. Set $n = \\lfloor n/2 \\rfloor$.\n",
    "3. Return $R$ (which equals $[n]P$).\n",
    "\n"
   ]
  },
  {
   "cell_type": "code",
   "execution_count": 100,
   "id": "448157a9",
   "metadata": {},
   "outputs": [],
   "source": [
    "def double_and_add(P: List[int], n: int, ec: EllipticCurve):\n",
    "    Q = P\n",
    "    R = O\n",
    "    while n > 0:\n",
    "        if n % 2 == 1:\n",
    "            R = point_addition(R, Q, ec)\n",
    "        Q = point_addition(Q, Q, ec)\n",
    "        n = n // 2\n",
    "    return R"
   ]
  },
  {
   "cell_type": "code",
   "execution_count": 101,
   "id": "9913e475",
   "metadata": {},
   "outputs": [
    {
     "name": "stdout",
     "output_type": "stream",
     "text": [
      "crypto[9467, 2742]\n"
     ]
    }
   ],
   "source": [
    "P = [2339, 2213]\n",
    "Q = double_and_add(P, 7863, ec)\n",
    "\n",
    "print(f\"crypto{Q}\")"
   ]
  },
  {
   "cell_type": "markdown",
   "id": "6ce032a0",
   "metadata": {},
   "source": [
    "# Curves and Logs\n",
    "\n",
    "\n",
    "The **Elliptic Curve Discrete Logarithm Problem (ECDLP)** is the problem of finding an integer\n",
    "\n",
    "$$\n",
    "Q = [n]P\n",
    "$$\n",
    "\n",
    "such that $Q$ is obtained by multiplying a point $P$ by some integer $n$.\n",
    "\n",
    "Like with the **discrete logarithm problem**, scalar multiplication of a point in\n",
    "\n",
    "$$\n",
    "E(\\mathbb{F}_p)\n",
    "$$\n",
    "\n",
    "is believed to be hard to invert. The most efficient algorithm runs in\n",
    "\n",
    "$$\n",
    "O(\\sqrt{q})\n",
    "$$\n",
    "\n",
    "time when $P$ generates a subgroup of size $q$.\n",
    "\n",
    "This makes it a great candidate for a **trapdoor function**.\n",
    "\n",
    "---\n",
    "\n",
    "## Alice & Bob’s Shared Secret\n",
    "\n",
    "Alice and Bob want to establish a shared secret for symmetric cryptography.\n",
    "They agree on:\n",
    "\n",
    "* A curve $E$\n",
    "* A prime $p$\n",
    "* A generator point $G$\n",
    "\n",
    "which generates a subgroup\n",
    "\n",
    "$$\n",
    "H = \\langle G \\rangle\n",
    "$$\n",
    "\n",
    "of prime order $q$.\n",
    "\n",
    "> **Note:** In elliptic curve cryptography, it is important that the order of $G$ is prime. Constructing secure curves is non-trivial, so standardized curves are typically used."
   ]
  },
  {
   "cell_type": "markdown",
   "id": "eebe107b",
   "metadata": {},
   "source": [
    "## Elliptic Curve Diffie-Hellman (ECDH)\n",
    "\n",
    "1. **Alice** chooses a secret random integer $n_A$ and computes\n",
    "\n",
    "   $$\n",
    "   Q_A = [n_A]G\n",
    "   $$\n",
    "\n",
    "2. **Bob** chooses a secret random integer $n_B$ and computes\n",
    "\n",
    "   $$\n",
    "   Q_B = [n_B]G\n",
    "   $$\n",
    "\n",
    "3. Alice sends $Q_A$ to Bob, and Bob sends $Q_B$ to Alice.\n",
    "   An eavesdropper Eve cannot feasibly compute $n_A$ or $n_B$ due to ECDLP hardness.\n",
    "\n",
    "4. **Alice** computes\n",
    "\n",
    "   $$\n",
    "   S = [n_A]Q_B\n",
    "   $$\n",
    "\n",
    "   **Bob** computes\n",
    "\n",
    "   $$\n",
    "   S = [n_B]Q_A\n",
    "   $$\n",
    "\n",
    "5. By associativity of scalar multiplication:\n",
    "\n",
    "   $$\n",
    "   S = [n_A]Q_B = [n_B]Q_A\n",
    "   $$\n",
    "\n",
    "   Thus, Alice and Bob share the same secret $S$.\n"
   ]
  },
  {
   "cell_type": "markdown",
   "id": "7f6e936d",
   "metadata": {},
   "source": [
    "## Example Curve\n",
    "\n",
    "Using the given curve, prime, and generator:\n",
    "\n",
    "$$\n",
    "E: \\; Y^2 = X^3 + 497X + 1768 \\;\\; \\text{over } \\mathbb{F}_{9739}\n",
    "$$\n",
    "\n",
    "Generator:\n",
    "\n",
    "$$\n",
    "G = (1804, 5368), \\quad q = 9739\n",
    "$$\n",
    "\n",
    "$$\n",
    "Q_A​=(815,3190)\n",
    "$$\n",
    "\n",
    "with your secret integer $n_B=1829$"
   ]
  },
  {
   "cell_type": "code",
   "execution_count": 102,
   "id": "ec1e3f67",
   "metadata": {},
   "outputs": [],
   "source": [
    "def compute_key(q_a: List[int], n_b: int, ec: EllipticCurve):\n",
    "    q_ab = double_and_add(q_a, n_b, ec)\n",
    "    x_ab = q_ab[0]\n",
    "\n",
    "    return x_ab, sha1(str(x_ab).encode()).hexdigest()\n",
    "\n",
    "    "
   ]
  },
  {
   "cell_type": "code",
   "execution_count": 103,
   "id": "835b2bf1",
   "metadata": {},
   "outputs": [
    {
     "name": "stdout",
     "output_type": "stream",
     "text": [
      "crypto[80e5212754a824d3a4aed185ace4f9cac0f908bf]\n"
     ]
    }
   ],
   "source": [
    "\n",
    "Q_A = [815,3190]\n",
    "n_B = 1829\n",
    "\n",
    "x, key = compute_key(Q_A, n_B, ec)\n",
    "\n",
    "print(f\"crypto[{key}]\")"
   ]
  },
  {
   "cell_type": "markdown",
   "id": "38f6d8d0",
   "metadata": {},
   "source": [
    "Alice and Bob are looking at the Elliptic Curve Discrete Logarithm Problem and thinking about the data they send.\n",
    "\n",
    "They want to try and keep their data transfer as efficient as possible and realise that sending both the $x$ and $y$ coordinate of their public key isn't necessary.\n",
    "\n",
    "As long as Alice and Bob agree on the curve parameters, there are only ever two possible values of $y$ for a given $x$.\n",
    "\n",
    "In fact, given *either* of the values of $y$ permissible from the value $x$ they receive, the $x$ coordinate of their shared secret will be the same.\n",
    "\n",
    "💡 For these challenges, we have used a prime $p \\\\equiv 3 \\\\pmod{4}$, which will help you find $y$ from $y^2$.\n",
    "\n",
    "Using the curve, prime and generator:\n",
    "\n",
    "$$E: Y^2 = X^3 + 497 X + 1768 \\pmod{9739}, \\quad G: (1804,5368)$$\n",
    "\n",
    "Calculate the shared secret after Alice sends you $x(Q\\_A) = 4726$, with your secret integer $n\\_B = 6534$.\n",
    "\n",
    "Use the `decrypt.py` file to decode the flag\n",
    "\n",
    "```\n",
    "{'iv': 'cd9da9f1c60925922377ea952afc212c', 'encrypted_flag': 'febcbe3a3414a730b125931dccf912d2239f3e969c4334d95ed0ec86f6449ad8'}\n",
    "```\n",
    "\n",
    "✍️You can specify which of the two possible values your public $y$ coordinate has taken by sending only one bit. Try and think about how you could do this. How are the two $y$ values related to each other?\n"
   ]
  },
  {
   "cell_type": "code",
   "execution_count": null,
   "id": "5c4f3d17",
   "metadata": {},
   "outputs": [
    {
     "name": "stdout",
     "output_type": "stream",
     "text": [
      "the first option for x value of the secret key: 1791\n",
      "the second option for x value of the secret key: 1791\n"
     ]
    }
   ],
   "source": [
    "x_a = 4726\n",
    "n_b = 6534\n",
    "\n",
    "y_squared = (pow(x_a, 3, mod=ec.p) + ec.a * x_a + ec.b) % ec.p\n",
    "\n",
    "# this works because p % 4 = 3\n",
    "y_a = pow(y_squared, (ec.p + 1) // 4, mod=ec.p)\n",
    "\n",
    "y_a_minus =  -y_a % ec.p\n",
    "\n",
    "Q_A = [x_a, y_a]\n",
    "\n",
    "x_ab, key = compute_key(Q_A, n_b, ec)\n",
    "\n",
    "print(f\"the first option for x value of the secret key: {x_ab}\")\n",
    "\n",
    "Q_A = [x_a, y_a_minus]\n",
    "\n",
    "x_ab, key = compute_key(Q_A, n_b, ec)\n",
    "\n",
    "print(f\"the second option for x value of the secret key: {x_ab}\")"
   ]
  }
 ],
 "metadata": {
  "kernelspec": {
   "display_name": "venv",
   "language": "python",
   "name": "python3"
  },
  "language_info": {
   "codemirror_mode": {
    "name": "ipython",
    "version": 3
   },
   "file_extension": ".py",
   "mimetype": "text/x-python",
   "name": "python",
   "nbconvert_exporter": "python",
   "pygments_lexer": "ipython3",
   "version": "3.12.3"
  }
 },
 "nbformat": 4,
 "nbformat_minor": 5
}
