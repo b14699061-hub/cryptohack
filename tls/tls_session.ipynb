{
 "cells": [
  {
   "cell_type": "markdown",
   "id": "45d780ec",
   "metadata": {},
   "source": [
    "# Loading a TLS handshake between server and client"
   ]
  },
  {
   "cell_type": "code",
   "execution_count": null,
   "id": "ddbb9feb",
   "metadata": {},
   "outputs": [],
   "source": [
    "# imports:\n",
    "\n",
    "from scapy.all import conf, rdpcap\n",
    "from scapy.layers.tls.all import TLS"
   ]
  },
  {
   "cell_type": "code",
   "execution_count": 64,
   "id": "f7e7818a",
   "metadata": {},
   "outputs": [],
   "source": [
    "# pcap file:\n",
    "PCAP_FILE_PATH = \"res/no-finished-tls3.cryptohack.org.pcapng\"\n",
    "\n",
    "# key log file:\n",
    "SSL_KEYS_FILE_PATH = \"res/keylogfile.txt\""
   ]
  },
  {
   "cell_type": "code",
   "execution_count": 65,
   "id": "78b61ce7",
   "metadata": {},
   "outputs": [],
   "source": [
    "# Enable TLS decryption globally\n",
    "conf.tls_session_enable = True\n",
    "conf.tls_nss_filename = SSL_KEYS_FILE_PATH"
   ]
  },
  {
   "cell_type": "code",
   "execution_count": 66,
   "id": "4a388ec6",
   "metadata": {},
   "outputs": [],
   "source": [
    "packets = rdpcap(PCAP_FILE_PATH)"
   ]
  },
  {
   "cell_type": "code",
   "execution_count": 67,
   "id": "19566b59",
   "metadata": {},
   "outputs": [
    {
     "name": "stdout",
     "output_type": "stream",
     "text": [
      "CookedLinux / IP / UDP / DNS Qry b'tls3.cryptohack.org.'\n",
      "CookedLinux / IP / UDP / DNS Qry b'tls3.cryptohack.org.'\n",
      "CookedLinux / IP / UDP / DNS Ans 178.62.74.206\n",
      "CookedLinux / IP / UDP / DNS Ans\n",
      "CookedLinux / IP / TCP 172.16.112.134:50022 > 178.62.74.206:https S\n",
      "CookedLinux / IP / TCP 178.62.74.206:https > 172.16.112.134:50022 SA / Padding\n",
      "CookedLinux / IP / TCP 172.16.112.134:50022 > 178.62.74.206:https A\n",
      "CookedLinux / IP / TCP / TLS 172.16.112.134:50022 > 178.62.74.206:443 / TLS / TLS 1.3 Handshake - Client Hello\n",
      "CookedLinux / IP / TCP 178.62.74.206:https > 172.16.112.134:50022 A / Padding\n",
      "CookedLinux / IP / TCP 178.62.74.206:https > 172.16.112.134:50022 PA / Raw\n",
      "CookedLinux / IP / TCP 172.16.112.134:50022 > 178.62.74.206:https A\n"
     ]
    }
   ],
   "source": [
    "# all packets in the session\n",
    "for packet in packets:\n",
    "    print(packet.summary())\n"
   ]
  },
  {
   "cell_type": "code",
   "execution_count": 68,
   "id": "4e7b5c46",
   "metadata": {},
   "outputs": [
    {
     "name": "stdout",
     "output_type": "stream",
     "text": [
      "TLS 172.16.112.134:50022 > 178.62.74.206:443 / TLS / TLS 1.3 Handshake - Client Hello\n",
      "{'pkttype': 4, 'lladdrtype': 1, 'lladdrlen': 6, 'src': b'\\x00\\x0c)\\xea\\x9eB\\x00\\x00', 'proto': 2048}\n"
     ]
    }
   ],
   "source": [
    "# only TLS related packets\n",
    "for packet in packets:\n",
    "\n",
    "    if packet.haslayer(TLS):\n",
    "        print(packet[TLS].summary())\n",
    "        print(packet.fields)"
   ]
  }
 ],
 "metadata": {
  "kernelspec": {
   "display_name": "venv",
   "language": "python",
   "name": "python3"
  },
  "language_info": {
   "codemirror_mode": {
    "name": "ipython",
    "version": 3
   },
   "file_extension": ".py",
   "mimetype": "text/x-python",
   "name": "python",
   "nbconvert_exporter": "python",
   "pygments_lexer": "ipython3",
   "version": "3.12.3"
  }
 },
 "nbformat": 4,
 "nbformat_minor": 5
}
